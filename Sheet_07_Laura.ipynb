{
 "cells": [
  {
   "cell_type": "markdown",
   "metadata": {},
   "source": [
    "# Stochastic Optimization\n",
    "__Group ALT: Andreea, Laura, Tien__"
   ]
  },
  {
   "cell_type": "code",
   "execution_count": 1,
   "metadata": {},
   "outputs": [],
   "source": [
    "import numpy as np\n",
    "import matplotlib.pyplot as plt\n",
    "import itertools"
   ]
  },
  {
   "cell_type": "markdown",
   "metadata": {},
   "source": [
    "## Exercise H7.1: Simulated Annealing\n",
    "__A: Initialization__"
   ]
  },
  {
   "cell_type": "code",
   "execution_count": 45,
   "metadata": {},
   "outputs": [],
   "source": [
    "beta_0 = 1.00001\n",
    "tau = 1.05\n",
    "t_max = 155\n",
    "\n",
    "M = [1,20]\n",
    "\n",
    "s_i = [-1., 1.]\n",
    "N = 6\n",
    "s = np.random.choice(s_i, size=N).astype(dtype=np.float128)\n",
    "\n",
    "W_notsym = np.random.choice(s_i,size=(N,N))\n",
    "W = np.tril(W_notsym) + np.triu(W_notsym.T)\n",
    "W[np.absolute(W)>1] = 0"
   ]
  },
  {
   "cell_type": "markdown",
   "metadata": {},
   "source": [
    "__B: Optimization:__"
   ]
  },
  {
   "cell_type": "code",
   "execution_count": 46,
   "metadata": {},
   "outputs": [],
   "source": [
    "prob = lambda beta, delta_E: 1 / (1 + np.exp(beta * delta_E))\n",
    "\n",
    "def total_energy(w,s):\n",
    "    E = 0\n",
    "    for s_i in s:\n",
    "        E -= 0.5*s_i * np.sum(W @ s)\n",
    "    return E\n",
    "\n",
    "def energy_si(w,s,i):\n",
    "    E = 0\n",
    "    for j,s_j in enumerate(s):\n",
    "        E -= 0.5*w[i,j]*s[i]*s_j\n",
    "    return E\n"
   ]
  },
  {
   "cell_type": "code",
   "execution_count": 47,
   "metadata": {},
   "outputs": [],
   "source": [
    "def simulated_annealing(s,beta0,m,w,tau,tmax,N):\n",
    "    \"\"\"\n",
    "    performs simulated annealing with initial conditions s0, beta0\n",
    "    m iterations in the state update loop\n",
    "    tmax time steps and W weights\n",
    "    \"\"\"\n",
    "    temp = np.zeros(tmax)\n",
    "    energies = np.zeros(tmax)\n",
    "    beta = beta0\n",
    "    \n",
    "    for annealing in range(tmax):  \n",
    "        for state_update in range(m):\n",
    "            i_node = np.random.randint(0,6)\n",
    "\n",
    "            s_minus = np.copy(s)\n",
    "            s_minus[i_node] *= -1\n",
    "\n",
    "            E_si = energy_si(w,s,i_node)\n",
    "            E_minus_si = energy_si(w,s_minus,i_node)\n",
    "\n",
    "            deltaE = E_minus_si - E_si\n",
    "\n",
    "            if np.random.uniform(0,1) <= prob(beta,deltaE):\n",
    "                s = np.copy(s_minus)\n",
    "\n",
    "        beta *= tau\n",
    "        temp[annealing] = 1/beta\n",
    "        energies[annealing] =  total_energy(w,s)\n",
    "        \n",
    "    return temp, energies      \n",
    "            "
   ]
  },
  {
   "cell_type": "markdown",
   "metadata": {},
   "source": [
    "__C: Visualization:__\n",
    "\n",
    "1) Plot the temperature $T_t = \\frac{1}{\\beta_t}$ and the energy $E(\\mathbf{s})$ over the iterations $t=0,...,t_{max}$."
   ]
  },
  {
   "cell_type": "code",
   "execution_count": 48,
   "metadata": {
    "scrolled": true
   },
   "outputs": [],
   "source": [
    "t1, e1 = simulated_annealing(s,beta_0,M[0],W,tau,t_max,N)\n",
    "t20, e20 = simulated_annealing(s,beta_0,M[1],W,tau,t_max,N)"
   ]
  },
  {
   "cell_type": "code",
   "execution_count": 49,
   "metadata": {
    "scrolled": true
   },
   "outputs": [
    {
     "data": {
      "image/png": "[encoded data removed]",
      "text/plain": [
       "<Figure size 432x288 with 1 Axes>"
      ]
     },
     "metadata": {
      "needs_background": "light"
     },
     "output_type": "display_data"
    },
    {
     "data": {
      "image/png": "[encoded data removed]",
      "text/plain": [
       "<Figure size 432x288 with 1 Axes>"
      ]
     },
     "metadata": {
      "needs_background": "light"
     },
     "output_type": "display_data"
    }
   ],
   "source": [
    "plt.figure()\n",
    "plt.title(\"Temperature\")\n",
    "plt.plot(t1, label = \"M=1\")\n",
    "plt.plot(t20, label = \"M=20\");\n",
    "plt.figure()\n",
    "plt.title(\"Energy\")\n",
    "plt.plot(e1, label = \"M=1\")\n",
    "plt.plot(e20, label = \"M=20\")\n",
    "plt.legend();"
   ]
  },
  {
   "cell_type": "markdown",
   "metadata": {},
   "source": [
    "## Exercise H7.2:  Mean-Field Annealing"
   ]
  },
  {
   "cell_type": "markdown",
   "metadata": {},
   "source": [
    "__A: Initialization:__"
   ]
  },
  {
   "cell_type": "code",
   "execution_count": 7,
   "metadata": {},
   "outputs": [],
   "source": [
    "mean_field = lambda W, s, k, N: -np.sum([W[i, k] * s[i] for i in range(N) if not i == k])"
   ]
  },
  {
   "cell_type": "code",
   "execution_count": 8,
   "metadata": {},
   "outputs": [],
   "source": [
    "beta_0_mf = 1.05\n",
    "tau_mf = 1.05\n",
    "t_max = 155\n",
    "epsilon = 0.00005\n",
    "s = np.random.choice(s_i, N)"
   ]
  },
  {
   "cell_type": "markdown",
   "metadata": {},
   "source": [
    "__B: Optimization:__"
   ]
  },
  {
   "cell_type": "code",
   "execution_count": 9,
   "metadata": {},
   "outputs": [],
   "source": [
    "def mean_fiel_annealing(beta0, tau, tmax, eps, s, N,w):\n",
    "    e = np.zeros_like(s)\n",
    "    beta = beta0\n",
    "    \n",
    "    \n",
    "    ek_old = 0\n",
    "    \n",
    "    temp = np.zeros(tmax)\n",
    "    energies = np.zeros(tmax)\n",
    "    \n",
    "    for t in range(tmax):\n",
    "        dist = 100\n",
    "        while (dist >= eps):\n",
    "            e_old = e.copy()\n",
    "            for k in range(N):\n",
    "\n",
    "                e[k] = mean_field(w,s,k, N)\n",
    "                s[k] = np.tanh(-beta*e[k])\n",
    "                dist = np.linalg.norm(e - e_old)                      \n",
    "\n",
    "                \n",
    "        beta *= tau\n",
    "                \n",
    "        temp[t] = 1/beta\n",
    "        energies[t] = total_energy(w,s)\n",
    "    \n",
    "    return temp, energies\n",
    "    \n",
    "    "
   ]
  },
  {
   "cell_type": "code",
   "execution_count": 10,
   "metadata": {
    "scrolled": true
   },
   "outputs": [],
   "source": [
    "t,e = mean_fiel_annealing(beta_0_mf, tau_mf, t_max, epsilon, s, N,W)"
   ]
  },
  {
   "cell_type": "code",
   "execution_count": 11,
   "metadata": {},
   "outputs": [
    {
     "data": {
      "text/plain": [
       "[<matplotlib.lines.Line2D at 0x7fe7a4bc1ee0>]"
      ]
     },
     "execution_count": 11,
     "metadata": {},
     "output_type": "execute_result"
    },
    {
     "data": {
      "image/png": "[encoded data removed]",
      "text/plain": [
       "<Figure size 432x288 with 1 Axes>"
      ]
     },
     "metadata": {
      "needs_background": "light"
     },
     "output_type": "display_data"
    }
   ],
   "source": [
    "plt.plot(t)"
   ]
  },
  {
   "cell_type": "code",
   "execution_count": 12,
   "metadata": {
    "scrolled": false
   },
   "outputs": [
    {
     "data": {
      "text/plain": [
       "[<matplotlib.lines.Line2D at 0x7fe7a4b1f250>]"
      ]
     },
     "execution_count": 12,
     "metadata": {},
     "output_type": "execute_result"
    },
    {
     "data": {
      "image/png": "[encoded data removed]",
      "text/plain": [
       "<Figure size 432x288 with 1 Axes>"
      ]
     },
     "metadata": {
      "needs_background": "light"
     },
     "output_type": "display_data"
    }
   ],
   "source": [
    "plt.plot(e)"
   ]
  },
  {
   "cell_type": "code",
   "execution_count": null,
   "metadata": {},
   "outputs": [],
   "source": []
  }
 ],
 "metadata": {
  "kernelspec": {
   "display_name": "Python 3",
   "language": "python",
   "name": "python3"
  },
  "language_info": {
   "codemirror_mode": {
    "name": "ipython",
    "version": 3
   },
   "file_extension": ".py",
   "mimetype": "text/x-python",
   "name": "python",
   "nbconvert_exporter": "python",
   "pygments_lexer": "ipython3",
   "version": "3.8.3"
  }
 },
 "nbformat": 4,
 "nbformat_minor": 4
}
